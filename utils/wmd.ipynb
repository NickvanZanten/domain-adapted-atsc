{
 "cells": [
  {
   "cell_type": "code",
   "execution_count": 1,
   "metadata": {
    "collapsed": false
   },
   "outputs": [
    {
     "name": "stderr",
     "output_type": "stream",
     "text": [
      "Using TensorFlow backend.\n"
     ]
    }
   ],
   "source": [
    "from itertools import product\n",
    "from collections import defaultdict\n",
    "\n",
    "import numpy as np\n",
    "from scipy.spatial.distance import euclidean\n",
    "import pulp\n",
    "import gensim"
   ]
  },
  {
   "cell_type": "code",
   "execution_count": 2,
   "metadata": {
    "collapsed": true
   },
   "outputs": [],
   "source": [
    "def tokens_to_fracdict(tokens):\n",
    "    cntdict = defaultdict(lambda : 0)\n",
    "    for token in tokens:\n",
    "        cntdict[token] += 1\n",
    "    totalcnt = sum(cntdict.values())\n",
    "    return {token: float(cnt)/totalcnt for token, cnt in cntdict.items()}"
   ]
  },
  {
   "cell_type": "code",
   "execution_count": 3,
   "metadata": {
    "collapsed": true
   },
   "outputs": [],
   "source": [
    "def word_mover_distance_probspec(first_sent_tokens, second_sent_tokens, wvmodel, lpFile=None):\n",
    "    all_tokens = list(set(first_sent_tokens+second_sent_tokens))\n",
    "    wordvecs = {token: wvmodel[token] for token in all_tokens}\n",
    "\n",
    "    first_sent_buckets = tokens_to_fracdict(first_sent_tokens)\n",
    "    second_sent_buckets = tokens_to_fracdict(second_sent_tokens)\n",
    "\n",
    "    T = pulp.LpVariable.dicts('T_matrix', list(product(all_tokens, all_tokens)), lowBound=0)\n",
    "\n",
    "    prob = pulp.LpProblem('WMD', sense=pulp.LpMinimize)\n",
    "    prob += pulp.lpSum([T[token1, token2]*euclidean(wordvecs[token1], wordvecs[token2])\n",
    "                        for token1, token2 in product(all_tokens, all_tokens)])\n",
    "    for token2 in second_sent_buckets:\n",
    "        prob += pulp.lpSum([T[token1, token2] for token1 in first_sent_buckets])==second_sent_buckets[token2]\n",
    "    for token1 in first_sent_buckets:\n",
    "        prob += pulp.lpSum([T[token1, token2] for token2 in second_sent_buckets])==first_sent_buckets[token1]\n",
    "\n",
    "    if lpFile!=None:\n",
    "        prob.writeLP(lpFile)\n",
    "\n",
    "    prob.solve()\n",
    "\n",
    "    return prob"
   ]
  },
  {
   "cell_type": "code",
   "execution_count": 4,
   "metadata": {
    "collapsed": true
   },
   "outputs": [],
   "source": [
    "def word_mover_distance(first_sent_tokens, second_sent_tokens, wvmodel, lpFile=None):\n",
    "    prob = word_mover_distance_probspec(first_sent_tokens, second_sent_tokens, wvmodel, lpFile=lpFile)\n",
    "    return pulp.value(prob.objective)"
   ]
  },
  {
   "cell_type": "code",
   "execution_count": 5,
   "metadata": {
    "collapsed": false
   },
   "outputs": [],
   "source": [
    "wvmodel = gensim.models.KeyedVectors.load_word2vec_format('/Users/hok/Data/Word2Vec/GoogleNews-vectors-negative300.bin.gz', binary=True)"
   ]
  },
  {
   "cell_type": "code",
   "execution_count": 6,
   "metadata": {
    "collapsed": false
   },
   "outputs": [
    {
     "name": "stdout",
     "output_type": "stream",
     "text": [
      "2.88587622936\n",
      "(\"T_matrix_('Chicago',_'Illinois')\", '=', 0.33333333)\n",
      "(\"T_matrix_('President',_'Presidents')\", '=', 0.33333333)\n",
      "(\"T_matrix_('talk',_'speech')\", '=', 0.33333333)\n"
     ]
    }
   ],
   "source": [
    "prob = word_mover_distance_probspec(['President', 'talk', 'Chicago'], ['Presidents', 'speech', 'Illinois'], wvmodel)\n",
    "print(pulp.value(prob.objective))\n",
    "for v in prob.variables():\n",
    "    if v.varValue!=0:\n",
    "        print(v.name, '=', v.varValue)"
   ]
  },
  {
   "cell_type": "code",
   "execution_count": 7,
   "metadata": {
    "collapsed": false
   },
   "outputs": [
    {
     "name": "stdout",
     "output_type": "stream",
     "text": [
      "2.8760048151\n",
      "(\"T_matrix_('assistant',_'doctor')\", '=', 0.5)\n",
      "(\"T_matrix_('physician',_'doctor')\", '=', 0.5)\n"
     ]
    }
   ],
   "source": [
    "prob = word_mover_distance_probspec(['physician', 'assistant'], ['doctor'], wvmodel)\n",
    "print(pulp.value(prob.objective))\n",
    "for v in prob.variables():\n",
    "    if v.varValue!=0:\n",
    "        print(v.name, '=', v.varValue)"
   ]
  },
  {
   "cell_type": "code",
   "execution_count": 8,
   "metadata": {
    "collapsed": false
   },
   "outputs": [
    {
     "name": "stdout",
     "output_type": "stream",
     "text": [
      "1.00465738773\n",
      "(\"T_matrix_('assistant',_'assistant')\", '=', 0.5)\n",
      "(\"T_matrix_('physician',_'doctor')\", '=', 0.5)\n"
     ]
    }
   ],
   "source": [
    "prob = word_mover_distance_probspec(['physician', 'assistant'], ['doctor', 'assistant'], wvmodel)\n",
    "print(pulp.value(prob.objective))\n",
    "for v in prob.variables():\n",
    "    if v.varValue!=0:\n",
    "        print(v.name, '=', v.varValue)"
   ]
  },
  {
   "cell_type": "code",
   "execution_count": 9,
   "metadata": {
    "collapsed": false
   },
   "outputs": [
    {
     "name": "stdout",
     "output_type": "stream",
     "text": [
      "1.02825379372\n",
      "(\"T_matrix_('assistant',_'assistant')\", '=', 0.5)\n",
      "(\"T_matrix_('doctors',_'doctor')\", '=', 0.5)\n"
     ]
    }
   ],
   "source": [
    "prob = word_mover_distance_probspec(['doctors', 'assistant'], ['doctor', 'assistant'], wvmodel)\n",
    "print(pulp.value(prob.objective))\n",
    "for v in prob.variables():\n",
    "    if v.varValue!=0:\n",
    "        print(v.name, '=', v.varValue)"
   ]
  },
  {
   "cell_type": "code",
   "execution_count": 10,
   "metadata": {
    "collapsed": false
   },
   "outputs": [
    {
     "name": "stdout",
     "output_type": "stream",
     "text": [
      "0.0\n",
      "(\"T_matrix_('assistant',_'assistant')\", '=', 0.5)\n",
      "(\"T_matrix_('doctor',_'doctor')\", '=', 0.5)\n"
     ]
    }
   ],
   "source": [
    "prob = word_mover_distance_probspec(['doctor', 'assistant'], ['doctor', 'assistant'], wvmodel)\n",
    "print(pulp.value(prob.objective))\n",
    "for v in prob.variables():\n",
    "    if v.varValue!=0:\n",
    "        print(v.name, '=', v.varValue)"
   ]
  },
  {
   "cell_type": "code",
   "execution_count": 11,
   "metadata": {
    "collapsed": false
   },
   "outputs": [
    {
     "name": "stdout",
     "output_type": "stream",
     "text": [
      "4.05659282125\n",
      "(\"T_matrix_('Washington',_'tea')\", '=', 0.33333333)\n",
      "(\"T_matrix_('metro',_'bubble')\", '=', 0.33333333)\n",
      "(\"T_matrix_('train',_'milk')\", '=', 0.33333333)\n"
     ]
    }
   ],
   "source": [
    "prob = word_mover_distance_probspec(['Washington', 'metro', 'train'], ['bubble', 'milk', 'tea'], wvmodel)\n",
    "print(pulp.value(prob.objective))\n",
    "for v in prob.variables():\n",
    "    if v.varValue!=0:\n",
    "        print(v.name, '=', v.varValue)"
   ]
  },
  {
   "cell_type": "code",
   "execution_count": 12,
   "metadata": {
    "collapsed": false
   },
   "outputs": [
    {
     "name": "stdout",
     "output_type": "stream",
     "text": [
      "2.78057779074\n",
      "(\"T_matrix_('cancer',_'cancer')\", '=', 0.2)\n",
      "(\"T_matrix_('cancer',_'informatics')\", '=', 0.05)\n",
      "(\"T_matrix_('colon',_'informatics')\", '=', 0.05)\n",
      "(\"T_matrix_('colon',_'optics')\", '=', 0.2)\n",
      "(\"T_matrix_('patient',_'clinical')\", '=', 0.2)\n",
      "(\"T_matrix_('patient',_'informatics')\", '=', 0.05)\n",
      "(\"T_matrix_('research',_'informatics')\", '=', 0.05)\n",
      "(\"T_matrix_('research',_'study')\", '=', 0.2)\n"
     ]
    }
   ],
   "source": [
    "prob = word_mover_distance_probspec(['colon', 'cancer', 'research', 'patient'], ['cancer', 'clinical', 'study', 'optics', 'informatics'], wvmodel)\n",
    "print(pulp.value(prob.objective))\n",
    "for v in prob.variables():\n",
    "    if v.varValue!=0:\n",
    "        print(v.name, '=', v.varValue)"
   ]
  },
  {
   "cell_type": "code",
   "execution_count": 13,
   "metadata": {
    "collapsed": false
   },
   "outputs": [
    {
     "name": "stdout",
     "output_type": "stream",
     "text": [
      "3.18052220345\n",
      "(\"T_matrix_('Beijing',_'Paris')\", '=', 0.5)\n",
      "(\"T_matrix_('China',_'France')\", '=', 0.5)\n"
     ]
    }
   ],
   "source": [
    "prob = word_mover_distance_probspec(['China', 'Beijing'], ['France', 'Paris'], wvmodel)\n",
    "print(pulp.value(prob.objective))\n",
    "for v in prob.variables():\n",
    "    if v.varValue!=0:\n",
    "        print(v.name, '=', v.varValue)"
   ]
  },
  {
   "cell_type": "code",
   "execution_count": 14,
   "metadata": {
    "collapsed": false
   },
   "outputs": [
    {
     "name": "stdout",
     "output_type": "stream",
     "text": [
      "2.55220150948\n",
      "(\"T_matrix_('Beijing',_'Taipei')\", '=', 0.5)\n",
      "(\"T_matrix_('China',_'Taiwan')\", '=', 0.5)\n"
     ]
    }
   ],
   "source": [
    "prob = word_mover_distance_probspec(['China', 'Beijing'], ['Taiwan', 'Taipei'], wvmodel)\n",
    "print(pulp.value(prob.objective))\n",
    "for v in prob.variables():\n",
    "    if v.varValue!=0:\n",
    "        print(v.name, '=', v.varValue)"
   ]
  },
  {
   "cell_type": "code",
   "execution_count": 15,
   "metadata": {
    "collapsed": false
   },
   "outputs": [
    {
     "name": "stdout",
     "output_type": "stream",
     "text": [
      "3.48362541199\n",
      "(\"T_matrix_('Beijing',_'Santiago')\", '=', 0.5)\n",
      "(\"T_matrix_('China',_'Chile')\", '=', 0.5)\n"
     ]
    }
   ],
   "source": [
    "prob = word_mover_distance_probspec(['China', 'Beijing'], ['Chile', 'Santiago'], wvmodel)\n",
    "print(pulp.value(prob.objective))\n",
    "for v in prob.variables():\n",
    "    if v.varValue!=0:\n",
    "        print(v.name, '=', v.varValue)"
   ]
  },
  {
   "cell_type": "code",
   "execution_count": null,
   "metadata": {
    "collapsed": true
   },
   "outputs": [],
   "source": []
  }
 ],
 "metadata": {
  "anaconda-cloud": {},
  "kernelspec": {
   "display_name": "Python [Root]",
   "language": "python",
   "name": "Python [Root]"
  },
  "language_info": {
   "codemirror_mode": {
    "name": "ipython",
    "version": 2
   },
   "file_extension": ".py",
   "mimetype": "text/x-python",
   "name": "python",
   "nbconvert_exporter": "python",
   "pygments_lexer": "ipython2",
   "version": "2.7.12"
  }
 },
 "nbformat": 4,
 "nbformat_minor": 0
}